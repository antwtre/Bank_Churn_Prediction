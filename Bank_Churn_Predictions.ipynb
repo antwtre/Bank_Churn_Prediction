{
 "cells": [
  {
   "cell_type": "markdown",
   "metadata": {
    "toc": true
   },
   "source": [
    "<h1>Содержание<span class=\"tocSkip\"></span></h1>\n",
    "<div class=\"toc\"><ul class=\"toc-item\"><li><span><a href=\"#Подготовка-данных\" data-toc-modified-id=\"Подготовка-данных-1\"><span class=\"toc-item-num\">1&nbsp;&nbsp;</span>Подготовка данных</a></span><ul class=\"toc-item\"><li><span><a href=\"#Что-мы-обнаружили-в-данных:\" data-toc-modified-id=\"Что-мы-обнаружили-в-данных:-1.1\"><span class=\"toc-item-num\">1.1&nbsp;&nbsp;</span>Что мы обнаружили в данных:</a></span></li><li><span><a href=\"#Изучим-более-подробно-данные,-подготовим-их-к-дальнейшей-работе\" data-toc-modified-id=\"Изучим-более-подробно-данные,-подготовим-их-к-дальнейшей-работе-1.2\"><span class=\"toc-item-num\">1.2&nbsp;&nbsp;</span>Изучим более подробно данные, подготовим их к дальнейшей работе</a></span><ul class=\"toc-item\"><li><span><a href=\"#Пропуски\" data-toc-modified-id=\"Пропуски-1.2.1\"><span class=\"toc-item-num\">1.2.1&nbsp;&nbsp;</span>Пропуски</a></span></li><li><span><a href=\"#Аномалии\" data-toc-modified-id=\"Аномалии-1.2.2\"><span class=\"toc-item-num\">1.2.2&nbsp;&nbsp;</span>Аномалии</a></span></li></ul></li></ul></li><li><span><a href=\"#Исследование-задачи\" data-toc-modified-id=\"Исследование-задачи-2\"><span class=\"toc-item-num\">2&nbsp;&nbsp;</span>Исследование задачи</a></span><ul class=\"toc-item\"><li><ul class=\"toc-item\"><li><span><a href=\"#Анализ-признаков\" data-toc-modified-id=\"Анализ-признаков-2.0.1\"><span class=\"toc-item-num\">2.0.1&nbsp;&nbsp;</span>Анализ признаков</a></span></li><li><span><a href=\"#Географический-признак\" data-toc-modified-id=\"Географический-признак-2.0.2\"><span class=\"toc-item-num\">2.0.2&nbsp;&nbsp;</span>Географический признак</a></span></li><li><span><a href=\"#Дубликаты\" data-toc-modified-id=\"Дубликаты-2.0.3\"><span class=\"toc-item-num\">2.0.3&nbsp;&nbsp;</span>Дубликаты</a></span></li><li><span><a href=\"#Промежуточные-выводы\" data-toc-modified-id=\"Промежуточные-выводы-2.0.4\"><span class=\"toc-item-num\">2.0.4&nbsp;&nbsp;</span>Промежуточные выводы</a></span></li></ul></li></ul></li><li><span><a href=\"#Борьба-с-дисбалансом\" data-toc-modified-id=\"Борьба-с-дисбалансом-3\"><span class=\"toc-item-num\">3&nbsp;&nbsp;</span>Борьба с дисбалансом</a></span><ul class=\"toc-item\"><li><span><a href=\"#Downsampling\" data-toc-modified-id=\"Downsampling-3.1\"><span class=\"toc-item-num\">3.1&nbsp;&nbsp;</span>Downsampling</a></span></li></ul></li><li><span><a href=\"#Обучение-моделей\" data-toc-modified-id=\"Обучение-моделей-4\"><span class=\"toc-item-num\">4&nbsp;&nbsp;</span>Обучение моделей</a></span><ul class=\"toc-item\"><li><span><a href=\"#LogisticRegression\" data-toc-modified-id=\"LogisticRegression-4.1\"><span class=\"toc-item-num\">4.1&nbsp;&nbsp;</span>LogisticRegression</a></span></li><li><span><a href=\"#Случайный-лес\" data-toc-modified-id=\"Случайный-лес-4.2\"><span class=\"toc-item-num\">4.2&nbsp;&nbsp;</span>Случайный лес</a></span><ul class=\"toc-item\"><li><span><a href=\"#Порог-классификации\" data-toc-modified-id=\"Порог-классификации-4.2.1\"><span class=\"toc-item-num\">4.2.1&nbsp;&nbsp;</span>Порог классификации</a></span></li></ul></li><li><span><a href=\"#Проверка-модели-случайного-леса-на-тестовой-выборке\" data-toc-modified-id=\"Проверка-модели-случайного-леса-на-тестовой-выборке-4.3\"><span class=\"toc-item-num\">4.3&nbsp;&nbsp;</span>Проверка модели случайного леса на тестовой выборке</a></span></li><li><span><a href=\"#XGBClassifier\" data-toc-modified-id=\"XGBClassifier-4.4\"><span class=\"toc-item-num\">4.4&nbsp;&nbsp;</span>XGBClassifier</a></span></li></ul></li><li><span><a href=\"#Вывод\" data-toc-modified-id=\"Вывод-5\"><span class=\"toc-item-num\">5&nbsp;&nbsp;</span>Вывод</a></span><ul class=\"toc-item\"><li><span><a href=\"#Call-to-action\" data-toc-modified-id=\"Call-to-action-5.1\"><span class=\"toc-item-num\">5.1&nbsp;&nbsp;</span><strong><em>Call to action</em></strong></a></span></li><li><span><a href=\"#Результат\" data-toc-modified-id=\"Результат-5.2\"><span class=\"toc-item-num\">5.2&nbsp;&nbsp;</span><strong><em>Результат</em></strong></a></span></li></ul></li></ul></div>"
   ]
  },
  {
   "cell_type": "markdown",
   "metadata": {},
   "source": [
    "# Отток клиентов"
   ]
  },
  {
   "cell_type": "markdown",
   "metadata": {},
   "source": [
    "**Контекст:** Из «Бета-Банка» стали уходить клиенты. Каждый месяц. Немного, но заметно. Банковские маркетологи посчитали: сохранять текущих клиентов дешевле, чем привлекать новых.\n",
    "\n",
    "**Задача:** Нужно спрогнозировать, уйдёт клиент из банка в ближайшее время или нет. У нас имеются исторические данные о поведении клиентов и расторжении договоров с банком. Необходимо построить модель с предельно большим значением *Ф1*-меры, сравнивая ее с *AUC-ROC* (по требованию значение Ф1-меры должно быть выше 0.59). \n",
    "\n",
    "Источник данных: [https://www.kaggle.com/barelydedicated/bank-customer-churn-modeling](https://www.kaggle.com/barelydedicated/bank-customer-churn-modeling)"
   ]
  },
  {
   "cell_type": "markdown",
   "metadata": {},
   "source": [
    "## Подготовка данных"
   ]
  },
  {
   "cell_type": "code",
   "execution_count": 492,
   "metadata": {
    "ExecuteTime": {
     "end_time": "2022-11-28T13:45:44.034639Z",
     "start_time": "2022-11-28T13:45:44.021872Z"
    }
   },
   "outputs": [],
   "source": [
    "# импортируем все библиотеки\n",
    "import pandas as pd\n",
    "import matplotlib.pyplot as plt\n",
    "import numpy as np\n",
    "import seaborn as sns\n",
    "\n",
    "from sklearn.model_selection import train_test_split, GridSearchCV\n",
    "from sklearn.ensemble import RandomForestClassifier\n",
    "from sklearn.linear_model import LogisticRegression\n",
    "from sklearn.utils import shuffle\n",
    "from sklearn.metrics import accuracy_score, f1_score, roc_curve, roc_auc_score\n",
    "from sklearn.preprocessing import StandardScaler\n",
    "\n",
    "import xgboost as xgb"
   ]
  },
  {
   "cell_type": "code",
   "execution_count": 96,
   "metadata": {
    "ExecuteTime": {
     "end_time": "2022-11-28T13:14:33.695959Z",
     "start_time": "2022-11-28T13:14:30.359161Z"
    }
   },
   "outputs": [
    {
     "data": {
      "text/html": [
       "<div>\n",
       "<style scoped>\n",
       "    .dataframe tbody tr th:only-of-type {\n",
       "        vertical-align: middle;\n",
       "    }\n",
       "\n",
       "    .dataframe tbody tr th {\n",
       "        vertical-align: top;\n",
       "    }\n",
       "\n",
       "    .dataframe thead th {\n",
       "        text-align: right;\n",
       "    }\n",
       "</style>\n",
       "<table border=\"1\" class=\"dataframe\">\n",
       "  <thead>\n",
       "    <tr style=\"text-align: right;\">\n",
       "      <th></th>\n",
       "      <th>RowNumber</th>\n",
       "      <th>CustomerId</th>\n",
       "      <th>Surname</th>\n",
       "      <th>CreditScore</th>\n",
       "      <th>Geography</th>\n",
       "      <th>Gender</th>\n",
       "      <th>Age</th>\n",
       "      <th>Tenure</th>\n",
       "      <th>Balance</th>\n",
       "      <th>NumOfProducts</th>\n",
       "      <th>HasCrCard</th>\n",
       "      <th>IsActiveMember</th>\n",
       "      <th>EstimatedSalary</th>\n",
       "      <th>Exited</th>\n",
       "    </tr>\n",
       "  </thead>\n",
       "  <tbody>\n",
       "    <tr>\n",
       "      <th>0</th>\n",
       "      <td>1</td>\n",
       "      <td>15634602</td>\n",
       "      <td>Hargrave</td>\n",
       "      <td>619</td>\n",
       "      <td>France</td>\n",
       "      <td>Female</td>\n",
       "      <td>42</td>\n",
       "      <td>2.0</td>\n",
       "      <td>0.00</td>\n",
       "      <td>1</td>\n",
       "      <td>1</td>\n",
       "      <td>1</td>\n",
       "      <td>101348.88</td>\n",
       "      <td>1</td>\n",
       "    </tr>\n",
       "    <tr>\n",
       "      <th>1</th>\n",
       "      <td>2</td>\n",
       "      <td>15647311</td>\n",
       "      <td>Hill</td>\n",
       "      <td>608</td>\n",
       "      <td>Spain</td>\n",
       "      <td>Female</td>\n",
       "      <td>41</td>\n",
       "      <td>1.0</td>\n",
       "      <td>83807.86</td>\n",
       "      <td>1</td>\n",
       "      <td>0</td>\n",
       "      <td>1</td>\n",
       "      <td>112542.58</td>\n",
       "      <td>0</td>\n",
       "    </tr>\n",
       "    <tr>\n",
       "      <th>2</th>\n",
       "      <td>3</td>\n",
       "      <td>15619304</td>\n",
       "      <td>Onio</td>\n",
       "      <td>502</td>\n",
       "      <td>France</td>\n",
       "      <td>Female</td>\n",
       "      <td>42</td>\n",
       "      <td>8.0</td>\n",
       "      <td>159660.80</td>\n",
       "      <td>3</td>\n",
       "      <td>1</td>\n",
       "      <td>0</td>\n",
       "      <td>113931.57</td>\n",
       "      <td>1</td>\n",
       "    </tr>\n",
       "    <tr>\n",
       "      <th>3</th>\n",
       "      <td>4</td>\n",
       "      <td>15701354</td>\n",
       "      <td>Boni</td>\n",
       "      <td>699</td>\n",
       "      <td>France</td>\n",
       "      <td>Female</td>\n",
       "      <td>39</td>\n",
       "      <td>1.0</td>\n",
       "      <td>0.00</td>\n",
       "      <td>2</td>\n",
       "      <td>0</td>\n",
       "      <td>0</td>\n",
       "      <td>93826.63</td>\n",
       "      <td>0</td>\n",
       "    </tr>\n",
       "    <tr>\n",
       "      <th>4</th>\n",
       "      <td>5</td>\n",
       "      <td>15737888</td>\n",
       "      <td>Mitchell</td>\n",
       "      <td>850</td>\n",
       "      <td>Spain</td>\n",
       "      <td>Female</td>\n",
       "      <td>43</td>\n",
       "      <td>2.0</td>\n",
       "      <td>125510.82</td>\n",
       "      <td>1</td>\n",
       "      <td>1</td>\n",
       "      <td>1</td>\n",
       "      <td>79084.10</td>\n",
       "      <td>0</td>\n",
       "    </tr>\n",
       "    <tr>\n",
       "      <th>5</th>\n",
       "      <td>6</td>\n",
       "      <td>15574012</td>\n",
       "      <td>Chu</td>\n",
       "      <td>645</td>\n",
       "      <td>Spain</td>\n",
       "      <td>Male</td>\n",
       "      <td>44</td>\n",
       "      <td>8.0</td>\n",
       "      <td>113755.78</td>\n",
       "      <td>2</td>\n",
       "      <td>1</td>\n",
       "      <td>0</td>\n",
       "      <td>149756.71</td>\n",
       "      <td>1</td>\n",
       "    </tr>\n",
       "    <tr>\n",
       "      <th>6</th>\n",
       "      <td>7</td>\n",
       "      <td>15592531</td>\n",
       "      <td>Bartlett</td>\n",
       "      <td>822</td>\n",
       "      <td>France</td>\n",
       "      <td>Male</td>\n",
       "      <td>50</td>\n",
       "      <td>7.0</td>\n",
       "      <td>0.00</td>\n",
       "      <td>2</td>\n",
       "      <td>1</td>\n",
       "      <td>1</td>\n",
       "      <td>10062.80</td>\n",
       "      <td>0</td>\n",
       "    </tr>\n",
       "    <tr>\n",
       "      <th>7</th>\n",
       "      <td>8</td>\n",
       "      <td>15656148</td>\n",
       "      <td>Obinna</td>\n",
       "      <td>376</td>\n",
       "      <td>Germany</td>\n",
       "      <td>Female</td>\n",
       "      <td>29</td>\n",
       "      <td>4.0</td>\n",
       "      <td>115046.74</td>\n",
       "      <td>4</td>\n",
       "      <td>1</td>\n",
       "      <td>0</td>\n",
       "      <td>119346.88</td>\n",
       "      <td>1</td>\n",
       "    </tr>\n",
       "  </tbody>\n",
       "</table>\n",
       "</div>"
      ],
      "text/plain": [
       "   RowNumber  CustomerId   Surname  CreditScore Geography  Gender  Age  \\\n",
       "0          1    15634602  Hargrave          619    France  Female   42   \n",
       "1          2    15647311      Hill          608     Spain  Female   41   \n",
       "2          3    15619304      Onio          502    France  Female   42   \n",
       "3          4    15701354      Boni          699    France  Female   39   \n",
       "4          5    15737888  Mitchell          850     Spain  Female   43   \n",
       "5          6    15574012       Chu          645     Spain    Male   44   \n",
       "6          7    15592531  Bartlett          822    France    Male   50   \n",
       "7          8    15656148    Obinna          376   Germany  Female   29   \n",
       "\n",
       "   Tenure    Balance  NumOfProducts  HasCrCard  IsActiveMember  \\\n",
       "0     2.0       0.00              1          1               1   \n",
       "1     1.0   83807.86              1          0               1   \n",
       "2     8.0  159660.80              3          1               0   \n",
       "3     1.0       0.00              2          0               0   \n",
       "4     2.0  125510.82              1          1               1   \n",
       "5     8.0  113755.78              2          1               0   \n",
       "6     7.0       0.00              2          1               1   \n",
       "7     4.0  115046.74              4          1               0   \n",
       "\n",
       "   EstimatedSalary  Exited  \n",
       "0        101348.88       1  \n",
       "1        112542.58       0  \n",
       "2        113931.57       1  \n",
       "3         93826.63       0  \n",
       "4         79084.10       0  \n",
       "5        149756.71       1  \n",
       "6         10062.80       0  \n",
       "7        119346.88       1  "
      ]
     },
     "execution_count": 96,
     "metadata": {},
     "output_type": "execute_result"
    }
   ],
   "source": [
    "# посмотрим первые восемь строк\n",
    "df.head(8)"
   ]
  },
  {
   "cell_type": "code",
   "execution_count": 97,
   "metadata": {
    "ExecuteTime": {
     "end_time": "2022-11-28T13:14:33.726392Z",
     "start_time": "2022-11-28T13:14:33.697955Z"
    }
   },
   "outputs": [
    {
     "name": "stdout",
     "output_type": "stream",
     "text": [
      "<class 'pandas.core.frame.DataFrame'>\n",
      "RangeIndex: 10000 entries, 0 to 9999\n",
      "Data columns (total 14 columns):\n",
      " #   Column           Non-Null Count  Dtype  \n",
      "---  ------           --------------  -----  \n",
      " 0   RowNumber        10000 non-null  int64  \n",
      " 1   CustomerId       10000 non-null  int64  \n",
      " 2   Surname          10000 non-null  object \n",
      " 3   CreditScore      10000 non-null  int64  \n",
      " 4   Geography        10000 non-null  object \n",
      " 5   Gender           10000 non-null  object \n",
      " 6   Age              10000 non-null  int64  \n",
      " 7   Tenure           9091 non-null   float64\n",
      " 8   Balance          10000 non-null  float64\n",
      " 9   NumOfProducts    10000 non-null  int64  \n",
      " 10  HasCrCard        10000 non-null  int64  \n",
      " 11  IsActiveMember   10000 non-null  int64  \n",
      " 12  EstimatedSalary  10000 non-null  float64\n",
      " 13  Exited           10000 non-null  int64  \n",
      "dtypes: float64(3), int64(8), object(3)\n",
      "memory usage: 1.1+ MB\n"
     ]
    }
   ],
   "source": [
    "# изучим общую информацию\n",
    "df.info()"
   ]
  },
  {
   "cell_type": "code",
   "execution_count": 98,
   "metadata": {
    "ExecuteTime": {
     "end_time": "2022-11-28T13:14:33.787757Z",
     "start_time": "2022-11-28T13:14:33.730382Z"
    }
   },
   "outputs": [
    {
     "data": {
      "text/html": [
       "<div>\n",
       "<style scoped>\n",
       "    .dataframe tbody tr th:only-of-type {\n",
       "        vertical-align: middle;\n",
       "    }\n",
       "\n",
       "    .dataframe tbody tr th {\n",
       "        vertical-align: top;\n",
       "    }\n",
       "\n",
       "    .dataframe thead th {\n",
       "        text-align: right;\n",
       "    }\n",
       "</style>\n",
       "<table border=\"1\" class=\"dataframe\">\n",
       "  <thead>\n",
       "    <tr style=\"text-align: right;\">\n",
       "      <th></th>\n",
       "      <th>RowNumber</th>\n",
       "      <th>CustomerId</th>\n",
       "      <th>CreditScore</th>\n",
       "      <th>Age</th>\n",
       "      <th>Tenure</th>\n",
       "      <th>Balance</th>\n",
       "      <th>NumOfProducts</th>\n",
       "      <th>HasCrCard</th>\n",
       "      <th>IsActiveMember</th>\n",
       "      <th>EstimatedSalary</th>\n",
       "      <th>Exited</th>\n",
       "    </tr>\n",
       "  </thead>\n",
       "  <tbody>\n",
       "    <tr>\n",
       "      <th>count</th>\n",
       "      <td>10000.00000</td>\n",
       "      <td>1.000000e+04</td>\n",
       "      <td>10000.000000</td>\n",
       "      <td>10000.000000</td>\n",
       "      <td>9091.000000</td>\n",
       "      <td>10000.000000</td>\n",
       "      <td>10000.000000</td>\n",
       "      <td>10000.00000</td>\n",
       "      <td>10000.000000</td>\n",
       "      <td>10000.000000</td>\n",
       "      <td>10000.000000</td>\n",
       "    </tr>\n",
       "    <tr>\n",
       "      <th>mean</th>\n",
       "      <td>5000.50000</td>\n",
       "      <td>1.569094e+07</td>\n",
       "      <td>650.528800</td>\n",
       "      <td>38.921800</td>\n",
       "      <td>4.997690</td>\n",
       "      <td>76485.889288</td>\n",
       "      <td>1.530200</td>\n",
       "      <td>0.70550</td>\n",
       "      <td>0.515100</td>\n",
       "      <td>100090.239881</td>\n",
       "      <td>0.203700</td>\n",
       "    </tr>\n",
       "    <tr>\n",
       "      <th>std</th>\n",
       "      <td>2886.89568</td>\n",
       "      <td>7.193619e+04</td>\n",
       "      <td>96.653299</td>\n",
       "      <td>10.487806</td>\n",
       "      <td>2.894723</td>\n",
       "      <td>62397.405202</td>\n",
       "      <td>0.581654</td>\n",
       "      <td>0.45584</td>\n",
       "      <td>0.499797</td>\n",
       "      <td>57510.492818</td>\n",
       "      <td>0.402769</td>\n",
       "    </tr>\n",
       "    <tr>\n",
       "      <th>min</th>\n",
       "      <td>1.00000</td>\n",
       "      <td>1.556570e+07</td>\n",
       "      <td>350.000000</td>\n",
       "      <td>18.000000</td>\n",
       "      <td>0.000000</td>\n",
       "      <td>0.000000</td>\n",
       "      <td>1.000000</td>\n",
       "      <td>0.00000</td>\n",
       "      <td>0.000000</td>\n",
       "      <td>11.580000</td>\n",
       "      <td>0.000000</td>\n",
       "    </tr>\n",
       "    <tr>\n",
       "      <th>25%</th>\n",
       "      <td>2500.75000</td>\n",
       "      <td>1.562853e+07</td>\n",
       "      <td>584.000000</td>\n",
       "      <td>32.000000</td>\n",
       "      <td>2.000000</td>\n",
       "      <td>0.000000</td>\n",
       "      <td>1.000000</td>\n",
       "      <td>0.00000</td>\n",
       "      <td>0.000000</td>\n",
       "      <td>51002.110000</td>\n",
       "      <td>0.000000</td>\n",
       "    </tr>\n",
       "    <tr>\n",
       "      <th>50%</th>\n",
       "      <td>5000.50000</td>\n",
       "      <td>1.569074e+07</td>\n",
       "      <td>652.000000</td>\n",
       "      <td>37.000000</td>\n",
       "      <td>5.000000</td>\n",
       "      <td>97198.540000</td>\n",
       "      <td>1.000000</td>\n",
       "      <td>1.00000</td>\n",
       "      <td>1.000000</td>\n",
       "      <td>100193.915000</td>\n",
       "      <td>0.000000</td>\n",
       "    </tr>\n",
       "    <tr>\n",
       "      <th>75%</th>\n",
       "      <td>7500.25000</td>\n",
       "      <td>1.575323e+07</td>\n",
       "      <td>718.000000</td>\n",
       "      <td>44.000000</td>\n",
       "      <td>7.000000</td>\n",
       "      <td>127644.240000</td>\n",
       "      <td>2.000000</td>\n",
       "      <td>1.00000</td>\n",
       "      <td>1.000000</td>\n",
       "      <td>149388.247500</td>\n",
       "      <td>0.000000</td>\n",
       "    </tr>\n",
       "    <tr>\n",
       "      <th>max</th>\n",
       "      <td>10000.00000</td>\n",
       "      <td>1.581569e+07</td>\n",
       "      <td>850.000000</td>\n",
       "      <td>92.000000</td>\n",
       "      <td>10.000000</td>\n",
       "      <td>250898.090000</td>\n",
       "      <td>4.000000</td>\n",
       "      <td>1.00000</td>\n",
       "      <td>1.000000</td>\n",
       "      <td>199992.480000</td>\n",
       "      <td>1.000000</td>\n",
       "    </tr>\n",
       "  </tbody>\n",
       "</table>\n",
       "</div>"
      ],
      "text/plain": [
       "         RowNumber    CustomerId   CreditScore           Age       Tenure  \\\n",
       "count  10000.00000  1.000000e+04  10000.000000  10000.000000  9091.000000   \n",
       "mean    5000.50000  1.569094e+07    650.528800     38.921800     4.997690   \n",
       "std     2886.89568  7.193619e+04     96.653299     10.487806     2.894723   \n",
       "min        1.00000  1.556570e+07    350.000000     18.000000     0.000000   \n",
       "25%     2500.75000  1.562853e+07    584.000000     32.000000     2.000000   \n",
       "50%     5000.50000  1.569074e+07    652.000000     37.000000     5.000000   \n",
       "75%     7500.25000  1.575323e+07    718.000000     44.000000     7.000000   \n",
       "max    10000.00000  1.581569e+07    850.000000     92.000000    10.000000   \n",
       "\n",
       "             Balance  NumOfProducts    HasCrCard  IsActiveMember  \\\n",
       "count   10000.000000   10000.000000  10000.00000    10000.000000   \n",
       "mean    76485.889288       1.530200      0.70550        0.515100   \n",
       "std     62397.405202       0.581654      0.45584        0.499797   \n",
       "min         0.000000       1.000000      0.00000        0.000000   \n",
       "25%         0.000000       1.000000      0.00000        0.000000   \n",
       "50%     97198.540000       1.000000      1.00000        1.000000   \n",
       "75%    127644.240000       2.000000      1.00000        1.000000   \n",
       "max    250898.090000       4.000000      1.00000        1.000000   \n",
       "\n",
       "       EstimatedSalary        Exited  \n",
       "count     10000.000000  10000.000000  \n",
       "mean     100090.239881      0.203700  \n",
       "std       57510.492818      0.402769  \n",
       "min          11.580000      0.000000  \n",
       "25%       51002.110000      0.000000  \n",
       "50%      100193.915000      0.000000  \n",
       "75%      149388.247500      0.000000  \n",
       "max      199992.480000      1.000000  "
      ]
     },
     "execution_count": 98,
     "metadata": {},
     "output_type": "execute_result"
    }
   ],
   "source": [
    "df.describe()"
   ]
  },
  {
   "cell_type": "markdown",
   "metadata": {},
   "source": [
    "### Что мы обнаружили в данных:\n",
    "1. **Пропуски**. С пропусками ситуация довольно благоприятная - они присутствуют только в столбце \"Tenure\", в котором хранятся сведения о том, сколько лет человек является клиентом банка. \n",
    "2. **Типы данных**. С типами данных проблем нет.\n",
    "3. **Аномальные значения**. Здесь также не наблюдается особых проблем, за исключением столбца \"EstimatedSalary\" где мы видим минимальную предполагаемую зарплату в 11 евро в год (поскольку видим, что география клиентов состоит из европейских стран, значит и в нашем столбце указаны данные по европейским стандартам - зарплату пишут за год), что неправдоподобно мало.\n",
    "\n",
    "### Изучим более подробно данные, подготовим их к дальнейшей работе"
   ]
  },
  {
   "cell_type": "markdown",
   "metadata": {},
   "source": [
    "#### Пропуски"
   ]
  },
  {
   "cell_type": "code",
   "execution_count": 99,
   "metadata": {
    "ExecuteTime": {
     "end_time": "2022-11-28T13:14:33.819664Z",
     "start_time": "2022-11-28T13:14:33.789723Z"
    }
   },
   "outputs": [
    {
     "data": {
      "text/html": [
       "<div>\n",
       "<style scoped>\n",
       "    .dataframe tbody tr th:only-of-type {\n",
       "        vertical-align: middle;\n",
       "    }\n",
       "\n",
       "    .dataframe tbody tr th {\n",
       "        vertical-align: top;\n",
       "    }\n",
       "\n",
       "    .dataframe thead th {\n",
       "        text-align: right;\n",
       "    }\n",
       "</style>\n",
       "<table border=\"1\" class=\"dataframe\">\n",
       "  <thead>\n",
       "    <tr style=\"text-align: right;\">\n",
       "      <th></th>\n",
       "      <th>RowNumber</th>\n",
       "      <th>CustomerId</th>\n",
       "      <th>Surname</th>\n",
       "      <th>CreditScore</th>\n",
       "      <th>Geography</th>\n",
       "      <th>Gender</th>\n",
       "      <th>Age</th>\n",
       "      <th>Tenure</th>\n",
       "      <th>Balance</th>\n",
       "      <th>NumOfProducts</th>\n",
       "      <th>HasCrCard</th>\n",
       "      <th>IsActiveMember</th>\n",
       "      <th>EstimatedSalary</th>\n",
       "      <th>Exited</th>\n",
       "    </tr>\n",
       "  </thead>\n",
       "  <tbody>\n",
       "    <tr>\n",
       "      <th>30</th>\n",
       "      <td>31</td>\n",
       "      <td>15589475</td>\n",
       "      <td>Azikiwe</td>\n",
       "      <td>591</td>\n",
       "      <td>Spain</td>\n",
       "      <td>Female</td>\n",
       "      <td>39</td>\n",
       "      <td>NaN</td>\n",
       "      <td>0.00</td>\n",
       "      <td>3</td>\n",
       "      <td>1</td>\n",
       "      <td>0</td>\n",
       "      <td>140469.38</td>\n",
       "      <td>1</td>\n",
       "    </tr>\n",
       "    <tr>\n",
       "      <th>48</th>\n",
       "      <td>49</td>\n",
       "      <td>15766205</td>\n",
       "      <td>Yin</td>\n",
       "      <td>550</td>\n",
       "      <td>Germany</td>\n",
       "      <td>Male</td>\n",
       "      <td>38</td>\n",
       "      <td>NaN</td>\n",
       "      <td>103391.38</td>\n",
       "      <td>1</td>\n",
       "      <td>0</td>\n",
       "      <td>1</td>\n",
       "      <td>90878.13</td>\n",
       "      <td>0</td>\n",
       "    </tr>\n",
       "    <tr>\n",
       "      <th>51</th>\n",
       "      <td>52</td>\n",
       "      <td>15768193</td>\n",
       "      <td>Trevisani</td>\n",
       "      <td>585</td>\n",
       "      <td>Germany</td>\n",
       "      <td>Male</td>\n",
       "      <td>36</td>\n",
       "      <td>NaN</td>\n",
       "      <td>146050.97</td>\n",
       "      <td>2</td>\n",
       "      <td>0</td>\n",
       "      <td>0</td>\n",
       "      <td>86424.57</td>\n",
       "      <td>0</td>\n",
       "    </tr>\n",
       "    <tr>\n",
       "      <th>53</th>\n",
       "      <td>54</td>\n",
       "      <td>15702298</td>\n",
       "      <td>Parkhill</td>\n",
       "      <td>655</td>\n",
       "      <td>Germany</td>\n",
       "      <td>Male</td>\n",
       "      <td>41</td>\n",
       "      <td>NaN</td>\n",
       "      <td>125561.97</td>\n",
       "      <td>1</td>\n",
       "      <td>0</td>\n",
       "      <td>0</td>\n",
       "      <td>164040.94</td>\n",
       "      <td>1</td>\n",
       "    </tr>\n",
       "    <tr>\n",
       "      <th>60</th>\n",
       "      <td>61</td>\n",
       "      <td>15651280</td>\n",
       "      <td>Hunter</td>\n",
       "      <td>742</td>\n",
       "      <td>Germany</td>\n",
       "      <td>Male</td>\n",
       "      <td>35</td>\n",
       "      <td>NaN</td>\n",
       "      <td>136857.00</td>\n",
       "      <td>1</td>\n",
       "      <td>0</td>\n",
       "      <td>0</td>\n",
       "      <td>84509.57</td>\n",
       "      <td>0</td>\n",
       "    </tr>\n",
       "    <tr>\n",
       "      <th>...</th>\n",
       "      <td>...</td>\n",
       "      <td>...</td>\n",
       "      <td>...</td>\n",
       "      <td>...</td>\n",
       "      <td>...</td>\n",
       "      <td>...</td>\n",
       "      <td>...</td>\n",
       "      <td>...</td>\n",
       "      <td>...</td>\n",
       "      <td>...</td>\n",
       "      <td>...</td>\n",
       "      <td>...</td>\n",
       "      <td>...</td>\n",
       "      <td>...</td>\n",
       "    </tr>\n",
       "    <tr>\n",
       "      <th>9944</th>\n",
       "      <td>9945</td>\n",
       "      <td>15703923</td>\n",
       "      <td>Cameron</td>\n",
       "      <td>744</td>\n",
       "      <td>Germany</td>\n",
       "      <td>Male</td>\n",
       "      <td>41</td>\n",
       "      <td>NaN</td>\n",
       "      <td>190409.34</td>\n",
       "      <td>2</td>\n",
       "      <td>1</td>\n",
       "      <td>1</td>\n",
       "      <td>138361.48</td>\n",
       "      <td>0</td>\n",
       "    </tr>\n",
       "    <tr>\n",
       "      <th>9956</th>\n",
       "      <td>9957</td>\n",
       "      <td>15707861</td>\n",
       "      <td>Nucci</td>\n",
       "      <td>520</td>\n",
       "      <td>France</td>\n",
       "      <td>Female</td>\n",
       "      <td>46</td>\n",
       "      <td>NaN</td>\n",
       "      <td>85216.61</td>\n",
       "      <td>1</td>\n",
       "      <td>1</td>\n",
       "      <td>0</td>\n",
       "      <td>117369.52</td>\n",
       "      <td>1</td>\n",
       "    </tr>\n",
       "    <tr>\n",
       "      <th>9964</th>\n",
       "      <td>9965</td>\n",
       "      <td>15642785</td>\n",
       "      <td>Douglas</td>\n",
       "      <td>479</td>\n",
       "      <td>France</td>\n",
       "      <td>Male</td>\n",
       "      <td>34</td>\n",
       "      <td>NaN</td>\n",
       "      <td>117593.48</td>\n",
       "      <td>2</td>\n",
       "      <td>0</td>\n",
       "      <td>0</td>\n",
       "      <td>113308.29</td>\n",
       "      <td>0</td>\n",
       "    </tr>\n",
       "    <tr>\n",
       "      <th>9985</th>\n",
       "      <td>9986</td>\n",
       "      <td>15586914</td>\n",
       "      <td>Nepean</td>\n",
       "      <td>659</td>\n",
       "      <td>France</td>\n",
       "      <td>Male</td>\n",
       "      <td>36</td>\n",
       "      <td>NaN</td>\n",
       "      <td>123841.49</td>\n",
       "      <td>2</td>\n",
       "      <td>1</td>\n",
       "      <td>0</td>\n",
       "      <td>96833.00</td>\n",
       "      <td>0</td>\n",
       "    </tr>\n",
       "    <tr>\n",
       "      <th>9999</th>\n",
       "      <td>10000</td>\n",
       "      <td>15628319</td>\n",
       "      <td>Walker</td>\n",
       "      <td>792</td>\n",
       "      <td>France</td>\n",
       "      <td>Female</td>\n",
       "      <td>28</td>\n",
       "      <td>NaN</td>\n",
       "      <td>130142.79</td>\n",
       "      <td>1</td>\n",
       "      <td>1</td>\n",
       "      <td>0</td>\n",
       "      <td>38190.78</td>\n",
       "      <td>0</td>\n",
       "    </tr>\n",
       "  </tbody>\n",
       "</table>\n",
       "<p>909 rows × 14 columns</p>\n",
       "</div>"
      ],
      "text/plain": [
       "      RowNumber  CustomerId    Surname  CreditScore Geography  Gender  Age  \\\n",
       "30           31    15589475    Azikiwe          591     Spain  Female   39   \n",
       "48           49    15766205        Yin          550   Germany    Male   38   \n",
       "51           52    15768193  Trevisani          585   Germany    Male   36   \n",
       "53           54    15702298   Parkhill          655   Germany    Male   41   \n",
       "60           61    15651280     Hunter          742   Germany    Male   35   \n",
       "...         ...         ...        ...          ...       ...     ...  ...   \n",
       "9944       9945    15703923    Cameron          744   Germany    Male   41   \n",
       "9956       9957    15707861      Nucci          520    France  Female   46   \n",
       "9964       9965    15642785    Douglas          479    France    Male   34   \n",
       "9985       9986    15586914     Nepean          659    France    Male   36   \n",
       "9999      10000    15628319     Walker          792    France  Female   28   \n",
       "\n",
       "      Tenure    Balance  NumOfProducts  HasCrCard  IsActiveMember  \\\n",
       "30       NaN       0.00              3          1               0   \n",
       "48       NaN  103391.38              1          0               1   \n",
       "51       NaN  146050.97              2          0               0   \n",
       "53       NaN  125561.97              1          0               0   \n",
       "60       NaN  136857.00              1          0               0   \n",
       "...      ...        ...            ...        ...             ...   \n",
       "9944     NaN  190409.34              2          1               1   \n",
       "9956     NaN   85216.61              1          1               0   \n",
       "9964     NaN  117593.48              2          0               0   \n",
       "9985     NaN  123841.49              2          1               0   \n",
       "9999     NaN  130142.79              1          1               0   \n",
       "\n",
       "      EstimatedSalary  Exited  \n",
       "30          140469.38       1  \n",
       "48           90878.13       0  \n",
       "51           86424.57       0  \n",
       "53          164040.94       1  \n",
       "60           84509.57       0  \n",
       "...               ...     ...  \n",
       "9944        138361.48       0  \n",
       "9956        117369.52       1  \n",
       "9964        113308.29       0  \n",
       "9985         96833.00       0  \n",
       "9999         38190.78       0  \n",
       "\n",
       "[909 rows x 14 columns]"
      ]
     },
     "execution_count": 99,
     "metadata": {},
     "output_type": "execute_result"
    }
   ],
   "source": [
    "# первым делом разберемся с пропусками в столбце \"Tenure\"\n",
    "df.loc[df['Tenure'].isna()]"
   ]
  },
  {
   "cell_type": "markdown",
   "metadata": {},
   "source": [
    "Как мы видим, пропуски расположенны непредсказуемо - нет определенного прослеживаемого паттерна, как, например, если бы у клиентов с пропусками было значение \"0\" в количестве используемых продуктов (\"NumOfProducts\") или в его активности или наличии кредитной карты (\"IsActiveMember\", \"HasCrCard\"). \n",
    "\n",
    "Соответственно, пропуски здесь тяжело будет связать с чем-то, но, попробуем посмотреть уникальные значения в этом столбце. Вдруг, какое-то число лет не представлено в данных."
   ]
  },
  {
   "cell_type": "code",
   "execution_count": 100,
   "metadata": {
    "ExecuteTime": {
     "end_time": "2022-11-28T13:14:33.835621Z",
     "start_time": "2022-11-28T13:14:33.821637Z"
    }
   },
   "outputs": [
    {
     "data": {
      "text/plain": [
       "array([ 2.,  1.,  8.,  7.,  4.,  6.,  3., 10.,  5.,  9.,  0., nan])"
      ]
     },
     "execution_count": 100,
     "metadata": {},
     "output_type": "execute_result"
    }
   ],
   "source": [
    "df['Tenure'].unique()"
   ]
  },
  {
   "cell_type": "markdown",
   "metadata": {},
   "source": [
    "Предположение не подтвердилось. Все значения от минимума до максимума (от 0 до 10) представлены в столбце.\n",
    "\n",
    "Отметим этот пункт - он очень важен, ведь у нас есть пропуски в 10% данных в этом столбце. Пропуски могут быть вызваны как программными ошибками, так и человеческим фактором. В конце исследования укажем эту проблему. А пока заполним пропуски значением \"-1\"."
   ]
  },
  {
   "cell_type": "code",
   "execution_count": 101,
   "metadata": {
    "ExecuteTime": {
     "end_time": "2022-11-28T13:14:33.850562Z",
     "start_time": "2022-11-28T13:14:33.837595Z"
    }
   },
   "outputs": [
    {
     "data": {
      "text/plain": [
       "0"
      ]
     },
     "execution_count": 101,
     "metadata": {},
     "output_type": "execute_result"
    }
   ],
   "source": [
    "df['Tenure'] = df['Tenure'].fillna(-1)\n",
    "# проверим что мы все сделали правильно\n",
    "df['Tenure'].isna().sum()"
   ]
  },
  {
   "cell_type": "markdown",
   "metadata": {},
   "source": [
    "#### Аномалии"
   ]
  },
  {
   "cell_type": "markdown",
   "metadata": {},
   "source": [
    "Как мы помним, у нас были аномально низкие значения в столбце \"EstimatedSalary\". \n",
    "\n",
    "Ситуации бывают разные - студенты, люди живущие на пособие и т.д. Тем не менее, с учетом того, что средняя предполагаемая зарплата составляет 100000 евро в год со стандартным отклонением в 57 тысяч, вероятность получить значение меньше, возьмем, 5000 будет чрезвычайно мала. Удалим такие значения."
   ]
  },
  {
   "cell_type": "code",
   "execution_count": 102,
   "metadata": {
    "ExecuteTime": {
     "end_time": "2022-11-28T13:14:33.880481Z",
     "start_time": "2022-11-28T13:14:33.852555Z"
    }
   },
   "outputs": [
    {
     "data": {
      "text/html": [
       "<div>\n",
       "<style scoped>\n",
       "    .dataframe tbody tr th:only-of-type {\n",
       "        vertical-align: middle;\n",
       "    }\n",
       "\n",
       "    .dataframe tbody tr th {\n",
       "        vertical-align: top;\n",
       "    }\n",
       "\n",
       "    .dataframe thead th {\n",
       "        text-align: right;\n",
       "    }\n",
       "</style>\n",
       "<table border=\"1\" class=\"dataframe\">\n",
       "  <thead>\n",
       "    <tr style=\"text-align: right;\">\n",
       "      <th></th>\n",
       "      <th>RowNumber</th>\n",
       "      <th>CustomerId</th>\n",
       "      <th>Surname</th>\n",
       "      <th>CreditScore</th>\n",
       "      <th>Geography</th>\n",
       "      <th>Gender</th>\n",
       "      <th>Age</th>\n",
       "      <th>Tenure</th>\n",
       "      <th>Balance</th>\n",
       "      <th>NumOfProducts</th>\n",
       "      <th>HasCrCard</th>\n",
       "      <th>IsActiveMember</th>\n",
       "      <th>EstimatedSalary</th>\n",
       "      <th>Exited</th>\n",
       "    </tr>\n",
       "  </thead>\n",
       "  <tbody>\n",
       "    <tr>\n",
       "      <th>0</th>\n",
       "      <td>1</td>\n",
       "      <td>15634602</td>\n",
       "      <td>Hargrave</td>\n",
       "      <td>619</td>\n",
       "      <td>France</td>\n",
       "      <td>Female</td>\n",
       "      <td>42</td>\n",
       "      <td>2.0</td>\n",
       "      <td>0.00</td>\n",
       "      <td>1</td>\n",
       "      <td>1</td>\n",
       "      <td>1</td>\n",
       "      <td>101348.88</td>\n",
       "      <td>1</td>\n",
       "    </tr>\n",
       "    <tr>\n",
       "      <th>1</th>\n",
       "      <td>2</td>\n",
       "      <td>15647311</td>\n",
       "      <td>Hill</td>\n",
       "      <td>608</td>\n",
       "      <td>Spain</td>\n",
       "      <td>Female</td>\n",
       "      <td>41</td>\n",
       "      <td>1.0</td>\n",
       "      <td>83807.86</td>\n",
       "      <td>1</td>\n",
       "      <td>0</td>\n",
       "      <td>1</td>\n",
       "      <td>112542.58</td>\n",
       "      <td>0</td>\n",
       "    </tr>\n",
       "    <tr>\n",
       "      <th>2</th>\n",
       "      <td>3</td>\n",
       "      <td>15619304</td>\n",
       "      <td>Onio</td>\n",
       "      <td>502</td>\n",
       "      <td>France</td>\n",
       "      <td>Female</td>\n",
       "      <td>42</td>\n",
       "      <td>8.0</td>\n",
       "      <td>159660.80</td>\n",
       "      <td>3</td>\n",
       "      <td>1</td>\n",
       "      <td>0</td>\n",
       "      <td>113931.57</td>\n",
       "      <td>1</td>\n",
       "    </tr>\n",
       "    <tr>\n",
       "      <th>3</th>\n",
       "      <td>4</td>\n",
       "      <td>15701354</td>\n",
       "      <td>Boni</td>\n",
       "      <td>699</td>\n",
       "      <td>France</td>\n",
       "      <td>Female</td>\n",
       "      <td>39</td>\n",
       "      <td>1.0</td>\n",
       "      <td>0.00</td>\n",
       "      <td>2</td>\n",
       "      <td>0</td>\n",
       "      <td>0</td>\n",
       "      <td>93826.63</td>\n",
       "      <td>0</td>\n",
       "    </tr>\n",
       "    <tr>\n",
       "      <th>4</th>\n",
       "      <td>5</td>\n",
       "      <td>15737888</td>\n",
       "      <td>Mitchell</td>\n",
       "      <td>850</td>\n",
       "      <td>Spain</td>\n",
       "      <td>Female</td>\n",
       "      <td>43</td>\n",
       "      <td>2.0</td>\n",
       "      <td>125510.82</td>\n",
       "      <td>1</td>\n",
       "      <td>1</td>\n",
       "      <td>1</td>\n",
       "      <td>79084.10</td>\n",
       "      <td>0</td>\n",
       "    </tr>\n",
       "    <tr>\n",
       "      <th>...</th>\n",
       "      <td>...</td>\n",
       "      <td>...</td>\n",
       "      <td>...</td>\n",
       "      <td>...</td>\n",
       "      <td>...</td>\n",
       "      <td>...</td>\n",
       "      <td>...</td>\n",
       "      <td>...</td>\n",
       "      <td>...</td>\n",
       "      <td>...</td>\n",
       "      <td>...</td>\n",
       "      <td>...</td>\n",
       "      <td>...</td>\n",
       "      <td>...</td>\n",
       "    </tr>\n",
       "    <tr>\n",
       "      <th>9995</th>\n",
       "      <td>9996</td>\n",
       "      <td>15606229</td>\n",
       "      <td>Obijiaku</td>\n",
       "      <td>771</td>\n",
       "      <td>France</td>\n",
       "      <td>Male</td>\n",
       "      <td>39</td>\n",
       "      <td>5.0</td>\n",
       "      <td>0.00</td>\n",
       "      <td>2</td>\n",
       "      <td>1</td>\n",
       "      <td>0</td>\n",
       "      <td>96270.64</td>\n",
       "      <td>0</td>\n",
       "    </tr>\n",
       "    <tr>\n",
       "      <th>9996</th>\n",
       "      <td>9997</td>\n",
       "      <td>15569892</td>\n",
       "      <td>Johnstone</td>\n",
       "      <td>516</td>\n",
       "      <td>France</td>\n",
       "      <td>Male</td>\n",
       "      <td>35</td>\n",
       "      <td>10.0</td>\n",
       "      <td>57369.61</td>\n",
       "      <td>1</td>\n",
       "      <td>1</td>\n",
       "      <td>1</td>\n",
       "      <td>101699.77</td>\n",
       "      <td>0</td>\n",
       "    </tr>\n",
       "    <tr>\n",
       "      <th>9997</th>\n",
       "      <td>9998</td>\n",
       "      <td>15584532</td>\n",
       "      <td>Liu</td>\n",
       "      <td>709</td>\n",
       "      <td>France</td>\n",
       "      <td>Female</td>\n",
       "      <td>36</td>\n",
       "      <td>7.0</td>\n",
       "      <td>0.00</td>\n",
       "      <td>1</td>\n",
       "      <td>0</td>\n",
       "      <td>1</td>\n",
       "      <td>42085.58</td>\n",
       "      <td>1</td>\n",
       "    </tr>\n",
       "    <tr>\n",
       "      <th>9998</th>\n",
       "      <td>9999</td>\n",
       "      <td>15682355</td>\n",
       "      <td>Sabbatini</td>\n",
       "      <td>772</td>\n",
       "      <td>Germany</td>\n",
       "      <td>Male</td>\n",
       "      <td>42</td>\n",
       "      <td>3.0</td>\n",
       "      <td>75075.31</td>\n",
       "      <td>2</td>\n",
       "      <td>1</td>\n",
       "      <td>0</td>\n",
       "      <td>92888.52</td>\n",
       "      <td>1</td>\n",
       "    </tr>\n",
       "    <tr>\n",
       "      <th>9999</th>\n",
       "      <td>10000</td>\n",
       "      <td>15628319</td>\n",
       "      <td>Walker</td>\n",
       "      <td>792</td>\n",
       "      <td>France</td>\n",
       "      <td>Female</td>\n",
       "      <td>28</td>\n",
       "      <td>-1.0</td>\n",
       "      <td>130142.79</td>\n",
       "      <td>1</td>\n",
       "      <td>1</td>\n",
       "      <td>0</td>\n",
       "      <td>38190.78</td>\n",
       "      <td>0</td>\n",
       "    </tr>\n",
       "  </tbody>\n",
       "</table>\n",
       "<p>9736 rows × 14 columns</p>\n",
       "</div>"
      ],
      "text/plain": [
       "      RowNumber  CustomerId    Surname  CreditScore Geography  Gender  Age  \\\n",
       "0             1    15634602   Hargrave          619    France  Female   42   \n",
       "1             2    15647311       Hill          608     Spain  Female   41   \n",
       "2             3    15619304       Onio          502    France  Female   42   \n",
       "3             4    15701354       Boni          699    France  Female   39   \n",
       "4             5    15737888   Mitchell          850     Spain  Female   43   \n",
       "...         ...         ...        ...          ...       ...     ...  ...   \n",
       "9995       9996    15606229   Obijiaku          771    France    Male   39   \n",
       "9996       9997    15569892  Johnstone          516    France    Male   35   \n",
       "9997       9998    15584532        Liu          709    France  Female   36   \n",
       "9998       9999    15682355  Sabbatini          772   Germany    Male   42   \n",
       "9999      10000    15628319     Walker          792    France  Female   28   \n",
       "\n",
       "      Tenure    Balance  NumOfProducts  HasCrCard  IsActiveMember  \\\n",
       "0        2.0       0.00              1          1               1   \n",
       "1        1.0   83807.86              1          0               1   \n",
       "2        8.0  159660.80              3          1               0   \n",
       "3        1.0       0.00              2          0               0   \n",
       "4        2.0  125510.82              1          1               1   \n",
       "...      ...        ...            ...        ...             ...   \n",
       "9995     5.0       0.00              2          1               0   \n",
       "9996    10.0   57369.61              1          1               1   \n",
       "9997     7.0       0.00              1          0               1   \n",
       "9998     3.0   75075.31              2          1               0   \n",
       "9999    -1.0  130142.79              1          1               0   \n",
       "\n",
       "      EstimatedSalary  Exited  \n",
       "0           101348.88       1  \n",
       "1           112542.58       0  \n",
       "2           113931.57       1  \n",
       "3            93826.63       0  \n",
       "4            79084.10       0  \n",
       "...               ...     ...  \n",
       "9995         96270.64       0  \n",
       "9996        101699.77       0  \n",
       "9997         42085.58       1  \n",
       "9998         92888.52       1  \n",
       "9999         38190.78       0  \n",
       "\n",
       "[9736 rows x 14 columns]"
      ]
     },
     "execution_count": 102,
     "metadata": {},
     "output_type": "execute_result"
    }
   ],
   "source": [
    "df = df.loc[df['EstimatedSalary'] > 5000]\n",
    "df"
   ]
  },
  {
   "cell_type": "code",
   "execution_count": 103,
   "metadata": {
    "ExecuteTime": {
     "end_time": "2022-11-28T13:14:34.039087Z",
     "start_time": "2022-11-28T13:14:33.882505Z"
    },
    "scrolled": false
   },
   "outputs": [
    {
     "data": {
      "image/png": "[encoded data removed]",
      "text/plain": [
       "<Figure size 432x432 with 1 Axes>"
      ]
     },
     "metadata": {
      "needs_background": "light"
     },
     "output_type": "display_data"
    }
   ],
   "source": [
    "df.boxplot(column='EstimatedSalary', figsize=(6, 6))\n",
    "plt.xlabel('Предполагаемая зарплата')\n",
    "plt.ylabel('Сумма в евро')\n",
    "plt.title('Распределение предполагаемых зарплат')\n",
    "plt.show()"
   ]
  },
  {
   "cell_type": "code",
   "execution_count": 104,
   "metadata": {
    "ExecuteTime": {
     "end_time": "2022-11-28T13:14:34.275540Z",
     "start_time": "2022-11-28T13:14:34.042048Z"
    }
   },
   "outputs": [
    {
     "data": {
      "image/png": "[encoded data removed]",
      "text/plain": [
       "<Figure size 432x288 with 1 Axes>"
      ]
     },
     "metadata": {
      "needs_background": "light"
     },
     "output_type": "display_data"
    }
   ],
   "source": [
    " _, ax = plt.subplots()\n",
    "ax.hist(df['EstimatedSalary'], bins = [i for i in range(0, 200000, 5000)], cumulative = False, color = '#539caf',\n",
    "       edgecolor='black')\n",
    "ax.set_ylabel('Количество значений')\n",
    "ax.set_xlabel('Предполагаемая зарплата в евро')\n",
    "ax.set_title('Распределение предполагаемых зарплат')\n",
    "plt.show()"
   ]
  },
  {
   "cell_type": "markdown",
   "metadata": {},
   "source": [
    "Мы разделили все значения доходов на 40 групп с шагом 5000 евро, как мы видим, у нас примерно одинаковое количество клиентов во всех группах. Это и подтверждается медианой: она находится ровно между 5000 и 200000 евро в год - в районе 100000 евро."
   ]
  },
  {
   "cell_type": "markdown",
   "metadata": {},
   "source": [
    "Отлично, мы избавились от пропусков и от аномалий и теперь готовы переходить к анализу признаков."
   ]
  },
  {
   "cell_type": "markdown",
   "metadata": {},
   "source": [
    "## Исследование задачи"
   ]
  },
  {
   "cell_type": "markdown",
   "metadata": {},
   "source": [
    "#### Анализ признаков"
   ]
  },
  {
   "cell_type": "code",
   "execution_count": 105,
   "metadata": {
    "ExecuteTime": {
     "end_time": "2022-11-28T13:14:34.290912Z",
     "start_time": "2022-11-28T13:14:34.277418Z"
    }
   },
   "outputs": [],
   "source": [
    "# создадим список релевантных для нашего исследования признаков (которые будут иметь зависимость с целевым)\n",
    "relevant_features = (\n",
    "    ['CreditScore', 'Age', 'Tenure', 'Balance', 'NumOfProducts', \n",
    "     'HasCrCard', 'IsActiveMember', 'EstimatedSalary', 'Exited']\n",
    ")"
   ]
  },
  {
   "cell_type": "code",
   "execution_count": 106,
   "metadata": {
    "ExecuteTime": {
     "end_time": "2022-11-28T13:14:34.321853Z",
     "start_time": "2022-11-28T13:14:34.292907Z"
    }
   },
   "outputs": [
    {
     "data": {
      "text/html": [
       "<div>\n",
       "<style scoped>\n",
       "    .dataframe tbody tr th:only-of-type {\n",
       "        vertical-align: middle;\n",
       "    }\n",
       "\n",
       "    .dataframe tbody tr th {\n",
       "        vertical-align: top;\n",
       "    }\n",
       "\n",
       "    .dataframe thead th {\n",
       "        text-align: right;\n",
       "    }\n",
       "</style>\n",
       "<table border=\"1\" class=\"dataframe\">\n",
       "  <thead>\n",
       "    <tr style=\"text-align: right;\">\n",
       "      <th></th>\n",
       "      <th>CreditScore</th>\n",
       "      <th>Age</th>\n",
       "      <th>Tenure</th>\n",
       "      <th>Balance</th>\n",
       "      <th>NumOfProducts</th>\n",
       "      <th>HasCrCard</th>\n",
       "      <th>IsActiveMember</th>\n",
       "      <th>EstimatedSalary</th>\n",
       "      <th>Exited</th>\n",
       "    </tr>\n",
       "  </thead>\n",
       "  <tbody>\n",
       "    <tr>\n",
       "      <th>CreditScore</th>\n",
       "      <td>1.000000</td>\n",
       "      <td>-0.007993</td>\n",
       "      <td>0.004502</td>\n",
       "      <td>0.007017</td>\n",
       "      <td>0.012746</td>\n",
       "      <td>-0.005457</td>\n",
       "      <td>0.027107</td>\n",
       "      <td>0.000802</td>\n",
       "      <td>-0.026851</td>\n",
       "    </tr>\n",
       "    <tr>\n",
       "      <th>Age</th>\n",
       "      <td>-0.007993</td>\n",
       "      <td>1.000000</td>\n",
       "      <td>-0.006427</td>\n",
       "      <td>0.027458</td>\n",
       "      <td>-0.028237</td>\n",
       "      <td>-0.009827</td>\n",
       "      <td>0.086955</td>\n",
       "      <td>-0.010536</td>\n",
       "      <td>0.284094</td>\n",
       "    </tr>\n",
       "    <tr>\n",
       "      <th>Tenure</th>\n",
       "      <td>0.004502</td>\n",
       "      <td>-0.006427</td>\n",
       "      <td>1.000000</td>\n",
       "      <td>-0.008782</td>\n",
       "      <td>0.012074</td>\n",
       "      <td>0.020232</td>\n",
       "      <td>-0.025068</td>\n",
       "      <td>0.012066</td>\n",
       "      <td>-0.014376</td>\n",
       "    </tr>\n",
       "    <tr>\n",
       "      <th>Balance</th>\n",
       "      <td>0.007017</td>\n",
       "      <td>0.027458</td>\n",
       "      <td>-0.008782</td>\n",
       "      <td>1.000000</td>\n",
       "      <td>-0.301720</td>\n",
       "      <td>-0.012930</td>\n",
       "      <td>-0.009404</td>\n",
       "      <td>0.006389</td>\n",
       "      <td>0.116218</td>\n",
       "    </tr>\n",
       "    <tr>\n",
       "      <th>NumOfProducts</th>\n",
       "      <td>0.012746</td>\n",
       "      <td>-0.028237</td>\n",
       "      <td>0.012074</td>\n",
       "      <td>-0.301720</td>\n",
       "      <td>1.000000</td>\n",
       "      <td>0.001142</td>\n",
       "      <td>0.010416</td>\n",
       "      <td>0.017142</td>\n",
       "      <td>-0.044653</td>\n",
       "    </tr>\n",
       "    <tr>\n",
       "      <th>HasCrCard</th>\n",
       "      <td>-0.005457</td>\n",
       "      <td>-0.009827</td>\n",
       "      <td>0.020232</td>\n",
       "      <td>-0.012930</td>\n",
       "      <td>0.001142</td>\n",
       "      <td>1.000000</td>\n",
       "      <td>-0.010853</td>\n",
       "      <td>-0.011386</td>\n",
       "      <td>-0.005547</td>\n",
       "    </tr>\n",
       "    <tr>\n",
       "      <th>IsActiveMember</th>\n",
       "      <td>0.027107</td>\n",
       "      <td>0.086955</td>\n",
       "      <td>-0.025068</td>\n",
       "      <td>-0.009404</td>\n",
       "      <td>0.010416</td>\n",
       "      <td>-0.010853</td>\n",
       "      <td>1.000000</td>\n",
       "      <td>-0.013502</td>\n",
       "      <td>-0.156033</td>\n",
       "    </tr>\n",
       "    <tr>\n",
       "      <th>EstimatedSalary</th>\n",
       "      <td>0.000802</td>\n",
       "      <td>-0.010536</td>\n",
       "      <td>0.012066</td>\n",
       "      <td>0.006389</td>\n",
       "      <td>0.017142</td>\n",
       "      <td>-0.011386</td>\n",
       "      <td>-0.013502</td>\n",
       "      <td>1.000000</td>\n",
       "      <td>0.007415</td>\n",
       "    </tr>\n",
       "    <tr>\n",
       "      <th>Exited</th>\n",
       "      <td>-0.026851</td>\n",
       "      <td>0.284094</td>\n",
       "      <td>-0.014376</td>\n",
       "      <td>0.116218</td>\n",
       "      <td>-0.044653</td>\n",
       "      <td>-0.005547</td>\n",
       "      <td>-0.156033</td>\n",
       "      <td>0.007415</td>\n",
       "      <td>1.000000</td>\n",
       "    </tr>\n",
       "  </tbody>\n",
       "</table>\n",
       "</div>"
      ],
      "text/plain": [
       "                 CreditScore       Age    Tenure   Balance  NumOfProducts  \\\n",
       "CreditScore         1.000000 -0.007993  0.004502  0.007017       0.012746   \n",
       "Age                -0.007993  1.000000 -0.006427  0.027458      -0.028237   \n",
       "Tenure              0.004502 -0.006427  1.000000 -0.008782       0.012074   \n",
       "Balance             0.007017  0.027458 -0.008782  1.000000      -0.301720   \n",
       "NumOfProducts       0.012746 -0.028237  0.012074 -0.301720       1.000000   \n",
       "HasCrCard          -0.005457 -0.009827  0.020232 -0.012930       0.001142   \n",
       "IsActiveMember      0.027107  0.086955 -0.025068 -0.009404       0.010416   \n",
       "EstimatedSalary     0.000802 -0.010536  0.012066  0.006389       0.017142   \n",
       "Exited             -0.026851  0.284094 -0.014376  0.116218      -0.044653   \n",
       "\n",
       "                 HasCrCard  IsActiveMember  EstimatedSalary    Exited  \n",
       "CreditScore      -0.005457        0.027107         0.000802 -0.026851  \n",
       "Age              -0.009827        0.086955        -0.010536  0.284094  \n",
       "Tenure            0.020232       -0.025068         0.012066 -0.014376  \n",
       "Balance          -0.012930       -0.009404         0.006389  0.116218  \n",
       "NumOfProducts     0.001142        0.010416         0.017142 -0.044653  \n",
       "HasCrCard         1.000000       -0.010853        -0.011386 -0.005547  \n",
       "IsActiveMember   -0.010853        1.000000        -0.013502 -0.156033  \n",
       "EstimatedSalary  -0.011386       -0.013502         1.000000  0.007415  \n",
       "Exited           -0.005547       -0.156033         0.007415  1.000000  "
      ]
     },
     "execution_count": 106,
     "metadata": {},
     "output_type": "execute_result"
    }
   ],
   "source": [
    "df[relevant_features].corr()"
   ]
  },
  {
   "cell_type": "code",
   "execution_count": 107,
   "metadata": {
    "ExecuteTime": {
     "end_time": "2022-11-28T13:14:34.605837Z",
     "start_time": "2022-11-28T13:14:34.323825Z"
    }
   },
   "outputs": [
    {
     "data": {
      "text/plain": [
       "<AxesSubplot:>"
      ]
     },
     "execution_count": 107,
     "metadata": {},
     "output_type": "execute_result"
    },
    {
     "data": {
      "image/png": "[encoded data removed]",
      "text/plain": [
       "<Figure size 576x432 with 2 Axes>"
      ]
     },
     "metadata": {
      "needs_background": "light"
     },
     "output_type": "display_data"
    }
   ],
   "source": [
    "# построим тепловую матрицу корреляции признаков\n",
    "corrmat = df[relevant_features].corr()\n",
    "plt.subplots(figsize=(8,6))\n",
    "sns.heatmap(corrmat, vmax=0.9, square=True)"
   ]
  },
  {
   "cell_type": "markdown",
   "metadata": {},
   "source": [
    "Мы можем наблюдать слабую корреляцию между возрастом и фактом ухода (на уровне 0.285) и между балансом и фактом ухода (на уровне 0.117). При этом, наблюдается слабая отрицательная корреляция между активностью и фактом ухода (на уровне -0.15). В остальных случаях корреляции практически не наблюдается.\n",
    "\n",
    "Также у нас нет взаимозависимых признаков, что говорит об отсутствии мультиколлинеарности. \n",
    "\n",
    "В целом, слабая корреляция между целевым и остальными признаками усложняет задачу машинного обучения, поскольку модели будет трудно выделить выделяющиеся индикаторы.\n"
   ]
  },
  {
   "cell_type": "markdown",
   "metadata": {},
   "source": []
  },
  {
   "cell_type": "markdown",
   "metadata": {},
   "source": [
    "#### Географический признак\n",
    "Посмотрим, сколько клиентов из разных стран нашей выборки ушло из банка."
   ]
  },
  {
   "cell_type": "code",
   "execution_count": 108,
   "metadata": {
    "ExecuteTime": {
     "end_time": "2022-11-28T13:14:34.621906Z",
     "start_time": "2022-11-28T13:14:34.607803Z"
    }
   },
   "outputs": [
    {
     "data": {
      "text/plain": [
       "Geography  Exited\n",
       "France     0         4074\n",
       "           1          799\n",
       "Germany    0         1651\n",
       "           1          793\n",
       "Spain      0         2016\n",
       "           1          403\n",
       "Name: Exited, dtype: int64"
      ]
     },
     "execution_count": 108,
     "metadata": {},
     "output_type": "execute_result"
    }
   ],
   "source": [
    "df.groupby('Geography')['Exited'].value_counts()"
   ]
  },
  {
   "cell_type": "code",
   "execution_count": 109,
   "metadata": {
    "ExecuteTime": {
     "end_time": "2022-11-28T13:14:34.637865Z",
     "start_time": "2022-11-28T13:14:34.623902Z"
    }
   },
   "outputs": [
    {
     "data": {
      "text/plain": [
       "Geography\n",
       "France     0.163965\n",
       "Germany    0.324468\n",
       "Spain      0.166598\n",
       "Name: Exited, dtype: float64"
      ]
     },
     "execution_count": 109,
     "metadata": {},
     "output_type": "execute_result"
    }
   ],
   "source": [
    "# рассчитаем долю ушедших клиентов ко всем клиентам одной страны\n",
    "df.groupby('Geography')['Exited'].sum() / df.groupby('Geography')['Exited'].count()"
   ]
  },
  {
   "cell_type": "markdown",
   "metadata": {},
   "source": [
    "Количество ушедших клиентов из разных стран в процентном соотношении:\n",
    "- 16.4% Франция \n",
    "- 32.4% Германия\n",
    "- 16.6% Испания \n",
    "\n",
    "В Германии из банка уходит каждый третий клиент. Вероятно, что уровень обслуживания там ниже, чем в банках-конкурентах, или же не очень выгодные условия для клиентов."
   ]
  },
  {
   "cell_type": "markdown",
   "metadata": {},
   "source": [
    "#### Дубликаты"
   ]
  },
  {
   "cell_type": "markdown",
   "metadata": {},
   "source": [
    "Поскольку мы видим, что у нас всего три признака среди всех, которые имеют какую-либо относительно значимую корреляцию с целевым, мы можем посмотреть, сколько у нас дубликатов среди этих объектов. Это нужно потому, что дубликаты влияют на процесс обучения и дисбаланс классов, поэтому, кажется логичным найти их и избавиться от них. Для надежности добавим еще один признак - \"NumberOfProducts\", у него есть 5% корреляция с целевым признаком. Также, выше мы убедились, что географический признак так же может оказывать влияние на факт ухода клиента - добавим и его. И, естественно, добавим целевой признак."
   ]
  },
  {
   "cell_type": "code",
   "execution_count": 110,
   "metadata": {
    "ExecuteTime": {
     "end_time": "2022-11-28T13:14:34.652825Z",
     "start_time": "2022-11-28T13:14:34.639879Z"
    }
   },
   "outputs": [
    {
     "data": {
      "text/plain": [
       "2891"
      ]
     },
     "execution_count": 110,
     "metadata": {},
     "output_type": "execute_result"
    }
   ],
   "source": [
    "# посмотрим сколько дубликатов\n",
    "df[['Age', 'Balance', 'IsActiveMember', 'NumOfProducts', 'Geography', 'Exited']].duplicated().sum()"
   ]
  },
  {
   "cell_type": "markdown",
   "metadata": {},
   "source": [
    "2891 дубликат в значимых и целевом признаках - это треть от наших данных. Цифра большая и не хотелось бы потерять такую долю данных, но стоит учитывать, как уже было сказано, что дубликаты плохо влияют на модель. Избавимся от них."
   ]
  },
  {
   "cell_type": "code",
   "execution_count": 111,
   "metadata": {
    "ExecuteTime": {
     "end_time": "2022-11-28T13:14:34.668810Z",
     "start_time": "2022-11-28T13:14:34.654818Z"
    }
   },
   "outputs": [],
   "source": [
    "df = (\n",
    "    df[['Age', 'Balance', 'IsActiveMember', 'NumOfProducts', 'Geography', 'Exited']]\n",
    "    .drop_duplicates().reset_index(drop=True)\n",
    ")"
   ]
  },
  {
   "cell_type": "markdown",
   "metadata": {},
   "source": [
    "#### Промежуточные выводы\n",
    "- Мы обработали пропуски и аномалии в данных, в ходе чего обнаружили, что существует проблема, которая приводит к потере 10% данных в столбце \"Tenure\". \n",
    "\n",
    "- Познакомившись с данными мы обнаружили, что существует слабая корреляция возраста и баланса на счете с целевым признаком (0.285 и 0.117 соответственно). Корреляции незначительны, что усложнит обучение модели.\n",
    "\n",
    "- При рассмотрении распределения клиентов разных стран, покинувших банк, мы узнали, что в Германии высокий процент оттока клиентов - 32.4%. Вероятно, банку нужно обратить внимание на этот регион.\n",
    "\n",
    "- Мы также обнаружили 2891 дубликат в значимых признаках и удалили их."
   ]
  },
  {
   "cell_type": "markdown",
   "metadata": {},
   "source": [
    "## Борьба с дисбалансом"
   ]
  },
  {
   "cell_type": "markdown",
   "metadata": {},
   "source": [
    "Поскольку перед нами стоит задача бинарной классификации вероятно возникновение дисбаланса классов - когда вес одного признака перевешивает вес другого. Иными словами, в нашем случае, клиентов, которые уходят из банка (значение \"1\") гораздо меньше, чем клиентов, которые продолжают оставаться в банке (значение \"0\"). Посмотрим соотношение классов:"
   ]
  },
  {
   "cell_type": "code",
   "execution_count": 112,
   "metadata": {
    "ExecuteTime": {
     "end_time": "2022-11-28T13:14:34.684766Z",
     "start_time": "2022-11-28T13:14:34.670778Z"
    }
   },
   "outputs": [
    {
     "data": {
      "text/plain": [
       "Exited\n",
       "0    5093\n",
       "1    1752\n",
       "Name: Exited, dtype: int64"
      ]
     },
     "execution_count": 112,
     "metadata": {},
     "output_type": "execute_result"
    }
   ],
   "source": [
    "# посмотрим сколько наблюдений каждого класса\n",
    "df.groupby('Exited')['Exited'].count()"
   ]
  },
  {
   "cell_type": "code",
   "execution_count": 113,
   "metadata": {
    "ExecuteTime": {
     "end_time": "2022-11-28T13:14:34.699699Z",
     "start_time": "2022-11-28T13:14:34.686733Z"
    }
   },
   "outputs": [
    {
     "data": {
      "text/plain": [
       "0.34400157078342825"
      ]
     },
     "execution_count": 113,
     "metadata": {},
     "output_type": "execute_result"
    }
   ],
   "source": [
    "# вычислим соотношение классов\n",
    "df.loc[df['Exited'] == 1, 'Exited'].count() / df.loc[df['Exited'] == 0, 'Exited'].count()"
   ]
  },
  {
   "cell_type": "markdown",
   "metadata": {},
   "source": [
    "Соотношение наших классов - 1 к 2. Налицо **дисбаланс классов**, пусть и не такой сильный как в отдельных случаях (например, количество больных с диагностированным редким заболеванием по отношению к другим больным), но для адекватности результатов следует избавиться от дисбаланса.\n",
    "\n",
    "У нас есть три способа сбалансировать данные:\n",
    "\n",
    "1. Используя downsampling - искусственно уменьшив в 3 раза класс со значением \"0\";\n",
    "2. Используя upsampling - искусственно увеличив в 3 раза класс со значением \"1\";\n",
    "3. Используя аргумент `class_weight='balanced'`, который автоматически посчитает разницу между двумя классами и присвоит больший вес меньшему классу.\n",
    "\n",
    "Поскольку у нас достаточное количество данных предлагаю применить первый способ - **downsampling** (недосэмплирование)."
   ]
  },
  {
   "cell_type": "markdown",
   "metadata": {},
   "source": [
    "### Downsampling\n",
    "\n",
    "Используя downsampling обучим две модели - случайный лес и логистическую регрессию, а затем сравним их показатели."
   ]
  },
  {
   "cell_type": "markdown",
   "metadata": {},
   "source": [
    "**1. Закодируем все номинативные признаки в количественные**"
   ]
  },
  {
   "cell_type": "code",
   "execution_count": 114,
   "metadata": {
    "ExecuteTime": {
     "end_time": "2022-11-28T13:14:34.714687Z",
     "start_time": "2022-11-28T13:14:34.701693Z"
    }
   },
   "outputs": [],
   "source": [
    "df = pd.get_dummies(df, drop_first=True)"
   ]
  },
  {
   "cell_type": "markdown",
   "metadata": {},
   "source": [
    "**2. Разделим наш датасет на целевой признак (`y`) и на все остальные признаки (`X`)**"
   ]
  },
  {
   "cell_type": "code",
   "execution_count": 115,
   "metadata": {
    "ExecuteTime": {
     "end_time": "2022-11-28T13:14:34.730644Z",
     "start_time": "2022-11-28T13:14:34.716654Z"
    }
   },
   "outputs": [],
   "source": [
    "X = df.drop('Exited', axis=1)\n",
    "y = df.Exited"
   ]
  },
  {
   "cell_type": "markdown",
   "metadata": {},
   "source": [
    "**3. Разделим `X` и `y` на тренировочный, валидационный и тестовый датасеты**"
   ]
  },
  {
   "cell_type": "code",
   "execution_count": 116,
   "metadata": {
    "ExecuteTime": {
     "end_time": "2022-11-28T13:14:34.746026Z",
     "start_time": "2022-11-28T13:14:34.732644Z"
    }
   },
   "outputs": [],
   "source": [
    "train_valid_X, test_X, train_valid_y, test_y = train_test_split(X, y, test_size=0.25, random_state=97)\n",
    "train_X, valid_X, train_y, valid_y = train_test_split(train_valid_X, train_valid_y, test_size=0.2, random_state=97)"
   ]
  },
  {
   "cell_type": "markdown",
   "metadata": {},
   "source": [
    "**4. Создадим 4 переменные на основе тренировочной выборки, в которых будут храниться поделенные по признакам классы**"
   ]
  },
  {
   "cell_type": "code",
   "execution_count": 117,
   "metadata": {
    "ExecuteTime": {
     "end_time": "2022-11-28T13:14:34.761961Z",
     "start_time": "2022-11-28T13:14:34.747997Z"
    }
   },
   "outputs": [],
   "source": [
    "X_zeros = train_X[train_y == 0]\n",
    "X_ones = train_X[train_y == 1]\n",
    "y_zeros = train_y[train_y == 0]\n",
    "y_ones = train_y[train_y == 1]"
   ]
  },
  {
   "cell_type": "markdown",
   "metadata": {},
   "source": [
    "**5. На основе поделенных по признакам классов создадим новые тренировочные выборки: со всеми признаками (`train_X_downsampled`) и с целевым признаком (`train_y_downsampled`), в которых для признаков класса \"0\" применим недосэмплирование методом `sample`, чтобы выравнять соотношение классов и затем перемешаем данные, чтобы у нас классы не шли подряд друг за другом**"
   ]
  },
  {
   "cell_type": "code",
   "execution_count": 118,
   "metadata": {
    "ExecuteTime": {
     "end_time": "2022-11-28T13:14:34.777941Z",
     "start_time": "2022-11-28T13:14:34.763956Z"
    }
   },
   "outputs": [],
   "source": [
    "# создадим тренировочную выборку с признаками объединив уменьшенную выборку класса \"0\" и выборку класса \"1\"\n",
    "train_X_downsampled = pd.concat(\n",
    "    [X_zeros.sample(frac=0.38, random_state=97)] + \n",
    "    [X_ones]\n",
    ")\n",
    "# таким же образом для целевого признака\n",
    "train_y_downsampled = pd.concat(\n",
    "    [y_zeros.sample(frac=0.38, random_state=97)] + \n",
    "    [y_ones]\n",
    ")\n",
    "# перемешаем\n",
    "train_X_downsampled, train_y_downsampled = shuffle(\n",
    "    train_X_downsampled, train_y_downsampled, random_state=97)"
   ]
  },
  {
   "cell_type": "markdown",
   "metadata": {},
   "source": [
    "**Готово. Теперь мы избавились от дисбаланса классов в данных и готовы приступить к обучению моделей.**"
   ]
  },
  {
   "cell_type": "markdown",
   "metadata": {},
   "source": [
    "## Обучение моделей"
   ]
  },
  {
   "cell_type": "markdown",
   "metadata": {},
   "source": [
    "### LogisticRegression"
   ]
  },
  {
   "cell_type": "code",
   "execution_count": 144,
   "metadata": {
    "ExecuteTime": {
     "end_time": "2022-11-28T13:18:14.888778Z",
     "start_time": "2022-11-28T13:18:14.865819Z"
    }
   },
   "outputs": [
    {
     "data": {
      "text/plain": [
       "0.4165390505359878"
      ]
     },
     "execution_count": 144,
     "metadata": {},
     "output_type": "execute_result"
    }
   ],
   "source": [
    "model = LogisticRegression(solver='liblinear')\n",
    "model.fit(train_X_downsampled, train_y_downsampled)\n",
    "preds = model.predict(valid_X)\n",
    "f1_score(valid_y, preds)"
   ]
  },
  {
   "cell_type": "markdown",
   "metadata": {},
   "source": [
    "Результат плохой. Адекватность предсказаний логистической регрессии часто зависит от порога - попробуем сравнить разные пороги. Напишем функцию, которая будет перебирать пороги и выбирать лучшее значение Ф1 среди разных порогов (также рассмотрим показатель AUC ROC)."
   ]
  },
  {
   "cell_type": "code",
   "execution_count": 536,
   "metadata": {
    "ExecuteTime": {
     "end_time": "2022-11-28T14:19:38.196888Z",
     "start_time": "2022-11-28T14:19:38.188872Z"
    }
   },
   "outputs": [],
   "source": [
    "def threshold(model, valid_X=valid_X, valid_y=valid_y):\n",
    "    best_f1 = 0\n",
    "    best_roc_auc = 0\n",
    "    best_threshold = 0\n",
    "    \n",
    "    probabilities_valid = model.predict_proba(valid_X)\n",
    "    probabilities_one_valid = probabilities_valid[:, 1]\n",
    "    \n",
    "    for threshold in np.arange(0, 0.52, 0.02):\n",
    "        predicted_test = probabilities_one_valid > threshold\n",
    "        f1 = f1_score(valid_y, predicted_test)\n",
    "        roc_auc = roc_auc_score(valid_y, predicted_test)\n",
    "        if f1 > best_f1:\n",
    "            best_f1 = f1\n",
    "            best_threshold = threshold\n",
    "            best_roc_auc = roc_auc\n",
    "    \n",
    "    return (\"Лучший порог = {:.2f} | F1 = {:.3f} | AUC ROC = {:.3f}\"\n",
    "        .format(best_threshold, best_f1, best_roc_auc))"
   ]
  },
  {
   "cell_type": "code",
   "execution_count": 537,
   "metadata": {
    "ExecuteTime": {
     "end_time": "2022-11-28T14:19:38.878099Z",
     "start_time": "2022-11-28T14:19:38.795034Z"
    }
   },
   "outputs": [
    {
     "data": {
      "text/plain": [
       "'Лучший порог = 0.46 | F1 = 0.449 | AUC ROC = 0.613'"
      ]
     },
     "execution_count": 537,
     "metadata": {},
     "output_type": "execute_result"
    }
   ],
   "source": [
    "threshold(model)"
   ]
  },
  {
   "cell_type": "markdown",
   "metadata": {},
   "source": [
    "Порог на уровне 0.46 дает чуть более высокие результаты, но модель все еще предсказывает плохо. "
   ]
  },
  {
   "cell_type": "markdown",
   "metadata": {},
   "source": [
    "### Случайный лес"
   ]
  },
  {
   "cell_type": "markdown",
   "metadata": {},
   "source": [
    "Обучим модель случайного леса на преобразованной выборке. Для подбора лучших гиперпараметров воспользуемся `GridSearchCV`."
   ]
  },
  {
   "cell_type": "code",
   "execution_count": 119,
   "metadata": {
    "ExecuteTime": {
     "end_time": "2022-11-28T13:14:45.196700Z",
     "start_time": "2022-11-28T13:14:34.779912Z"
    }
   },
   "outputs": [
    {
     "name": "stdout",
     "output_type": "stream",
     "text": [
      "Лучшие гиперпараметры: {'max_depth': 7, 'n_estimators': 96}\n",
      "Accuracy лучшей модели: 0.7586373990474218\n",
      "CPU times: total: 1.11 s\n",
      "Wall time: 10.4 s\n"
     ]
    }
   ],
   "source": [
    "%%time\n",
    "\n",
    "param_grid = {\n",
    "            'n_estimators': [i for i in range (18, 118, 6)],\n",
    "            'max_depth': [i for i in range(5, 10)],\n",
    "             }\n",
    "\n",
    "# объявим GridSearchCV и нашу модель, передадим параметры\n",
    "grid = (GridSearchCV(RandomForestClassifier(random_state=97), param_grid, refit=True, n_jobs=-1)\n",
    "        .fit(train_X_downsampled, train_y_downsampled))\n",
    "\n",
    "print('Лучшие гиперпараметры:', grid.best_params_)\n",
    "print('Accuracy лучшей модели:', grid.best_score_)"
   ]
  },
  {
   "cell_type": "markdown",
   "metadata": {},
   "source": [
    "Мы нашли лучшие гиперпараметры для модели случайного леса: *глубина* - 7, и *число деревьев* - 96. Точность модели составила 0.758, но нас больше интересует Ф1-мера - рассчитаем ее для валидационной выборки."
   ]
  },
  {
   "cell_type": "code",
   "execution_count": 120,
   "metadata": {
    "ExecuteTime": {
     "end_time": "2022-11-28T13:14:45.244485Z",
     "start_time": "2022-11-28T13:14:45.198666Z"
    }
   },
   "outputs": [
    {
     "name": "stdout",
     "output_type": "stream",
     "text": [
      "Ф1-мера: 0.6050724637681159\n"
     ]
    }
   ],
   "source": [
    "# лучшая модель хранится в grid.best_estimator_\n",
    "model_rf = grid.best_estimator_\n",
    "\n",
    "# сделаем предсказания для валидационной выборки\n",
    "preds_rf = model_rf.predict(valid_X)\n",
    "\n",
    "# рассчитаем Ф1-меру\n",
    "print('Ф1-мера:', f1_score(valid_y, preds_rf))"
   ]
  },
  {
   "cell_type": "markdown",
   "metadata": {},
   "source": [
    "На валидационной выборке мы получили неплохой результат - **Ф1-мера на уровне 0.605**. Попробуем подобрать нужный порог, чтобы увеличить показатели."
   ]
  },
  {
   "cell_type": "markdown",
   "metadata": {},
   "source": [
    "#### Порог классификации\n",
    "Попробуем немного улучшить результат изменяя порог классификации. "
   ]
  },
  {
   "cell_type": "code",
   "execution_count": 522,
   "metadata": {
    "ExecuteTime": {
     "end_time": "2022-11-28T14:06:44.621258Z",
     "start_time": "2022-11-28T14:06:44.522464Z"
    }
   },
   "outputs": [
    {
     "data": {
      "text/plain": [
       "'Лучший порог = 0.50 | F1 = 0.605 | AUC ROC = 0.742'"
      ]
     },
     "execution_count": 522,
     "metadata": {},
     "output_type": "execute_result"
    }
   ],
   "source": [
    "threshold(model_rf)"
   ]
  },
  {
   "cell_type": "markdown",
   "metadata": {},
   "source": [
    "Лучший порог - дефолтный на уровне 0.5. Значит, порог менять не будем.\n",
    "\n",
    "Модель \"преодолела\" рубеж в 0.59 на валидационной выборке, проверим ее на тестовой."
   ]
  },
  {
   "cell_type": "markdown",
   "metadata": {},
   "source": [
    "### Проверка модели случайного леса на тестовой выборке"
   ]
  },
  {
   "cell_type": "markdown",
   "metadata": {},
   "source": [
    "Сделаем предсказания для тестовой выборки и посмотрим на значения Ф1-меры и AUC ROC."
   ]
  },
  {
   "cell_type": "code",
   "execution_count": 516,
   "metadata": {
    "ExecuteTime": {
     "end_time": "2022-11-28T14:03:49.024391Z",
     "start_time": "2022-11-28T14:03:48.973497Z"
    }
   },
   "outputs": [
    {
     "name": "stdout",
     "output_type": "stream",
     "text": [
      "Ф1-мера: 0.6368\n",
      "AUC ROC: 0.75\n"
     ]
    }
   ],
   "source": [
    "test_preds = model_rf.predict(test_X)\n",
    "print('Ф1-мера:', f1_score(test_y, test_preds).round(4))\n",
    "print('AUC ROC:', roc_auc_score(test_y, test_preds).round(4))"
   ]
  },
  {
   "cell_type": "markdown",
   "metadata": {},
   "source": [
    "Мы получили хорошие показатели Ф1-меры и AUC ROC на тестовой выборке: **0.6368** и **0.75** соответственно."
   ]
  },
  {
   "cell_type": "markdown",
   "metadata": {},
   "source": [
    "Для визуализации полученных результатов построим график, чтобы посмотреть на полученную площадь под кривой (AUC ROC). Для этого напишем специальную функцию."
   ]
  },
  {
   "cell_type": "code",
   "execution_count": 527,
   "metadata": {
    "ExecuteTime": {
     "end_time": "2022-11-28T14:11:51.461487Z",
     "start_time": "2022-11-28T14:11:51.285303Z"
    }
   },
   "outputs": [
    {
     "data": {
      "image/png": "[encoded data removed]",
      "text/plain": [
       "<Figure size 432x288 with 1 Axes>"
      ]
     },
     "metadata": {
      "needs_background": "light"
     },
     "output_type": "display_data"
    }
   ],
   "source": [
    "def auc_roc_plot(model, test_y=test_y, test_X=test_X):\n",
    "    # объявим переменные в которых будут храниться вероятности получения классов\n",
    "    probabilites_test = model.predict_proba(test_X)\n",
    "    # вероятности для класса \"1\"\n",
    "    probabilities_one_test = probabilites_test[:, 1]\n",
    "    # построим кривую\n",
    "    fpr, tpr, thresholds = roc_curve(test_y, probabilities_one_test)\n",
    "    plt.figure()\n",
    "    plt.plot(fpr, tpr)\n",
    "    plt.plot([0, 1], [0, 1], linestyle='--')\n",
    "    plt.xlim([0, 1])\n",
    "    plt.ylim([0, 1])\n",
    "    plt.xlabel('False Positive Rate')\n",
    "    plt.ylabel('True Positive Rate')\n",
    "    plt.title('Roc curve')\n",
    "    plt.show()\n",
    "    \n",
    "auc_roc_plot(model_rf)"
   ]
  },
  {
   "cell_type": "markdown",
   "metadata": {},
   "source": [
    "### XGBClassifier"
   ]
  },
  {
   "cell_type": "markdown",
   "metadata": {},
   "source": [
    "Наконец обучим модель с градиентным бустингом - `XGBClassifier`. Однако в этот раз будем обучать на объединенной выборке - тренировочной и валидационной и сразу же проверим на тестовой."
   ]
  },
  {
   "cell_type": "code",
   "execution_count": 520,
   "metadata": {
    "ExecuteTime": {
     "end_time": "2022-11-28T14:05:13.315466Z",
     "start_time": "2022-11-28T14:05:13.149072Z"
    }
   },
   "outputs": [
    {
     "data": {
      "text/plain": [
       "XGBClassifier(base_score=0.5, booster='gbtree', callbacks=None,\n",
       "              colsample_bylevel=1, colsample_bynode=1, colsample_bytree=1,\n",
       "              early_stopping_rounds=None, enable_categorical=False,\n",
       "              eval_metric=None, feature_types=None, gamma=4, gpu_id=-1,\n",
       "              grow_policy='depthwise', importance_type=None,\n",
       "              interaction_constraints='', learning_rate=0.300000012,\n",
       "              max_bin=256, max_cat_threshold=64, max_cat_to_onehot=4,\n",
       "              max_delta_step=0, max_depth=6, max_leaves=0, min_child_weight=1,\n",
       "              missing=nan, monotone_constraints='()', n_estimators=45, n_jobs=0,\n",
       "              num_parallel_tree=1, predictor='auto', random_state=0, ...)"
      ]
     },
     "execution_count": 520,
     "metadata": {},
     "output_type": "execute_result"
    }
   ],
   "source": [
    "xgb_model = xgb.XGBClassifier(gamma=4, min_child_weight=1, subsample=0.9, scale_pos_weight=2, n_estimators=45)\n",
    "xgb_model.fit(train_valid_X, train_valid_y)"
   ]
  },
  {
   "cell_type": "code",
   "execution_count": 533,
   "metadata": {
    "ExecuteTime": {
     "end_time": "2022-11-28T14:17:09.119238Z",
     "start_time": "2022-11-28T14:17:09.101314Z"
    }
   },
   "outputs": [
    {
     "name": "stdout",
     "output_type": "stream",
     "text": [
      "Ф1-мера: 0.66\n"
     ]
    }
   ],
   "source": [
    "xgb_preds = xgb_model.predict(test_X)\n",
    "print('Ф1-мера:', f1_score(test_y, xgb_preds).round(2))"
   ]
  },
  {
   "cell_type": "code",
   "execution_count": 534,
   "metadata": {
    "ExecuteTime": {
     "end_time": "2022-11-28T14:17:09.868420Z",
     "start_time": "2022-11-28T14:17:09.716869Z"
    }
   },
   "outputs": [
    {
     "data": {
      "image/png": "[encoded data removed]",
      "text/plain": [
       "<Figure size 432x288 with 1 Axes>"
      ]
     },
     "metadata": {
      "needs_background": "light"
     },
     "output_type": "display_data"
    }
   ],
   "source": [
    "auc_roc_plot(xgb_model)"
   ]
  },
  {
   "cell_type": "markdown",
   "metadata": {},
   "source": [
    "XGBClassifier показал себя лучше случайного леса, поэтому выбираем эту модель в качестве рабочей."
   ]
  },
  {
   "cell_type": "markdown",
   "metadata": {},
   "source": [
    "## Вывод \n",
    "\n",
    "После подготовки данных к работе, мы столкнулись с дисбалансом классов. Было принято решение избавиться от дисбаланса, для этого мы использовали технику *downsampling*.\n",
    "\n",
    "Мы избавились от дисбаланса классов, уменьшив класс \"0\" и, таким образом, выравнили соотношение классов. Мы обучили модели `RandomForestClassifier`, `LogisticRegression` и `XGBClassifier` на преобразованной (уменьшанной) выборке. Ф1-мера была наивысшей у модели XGBClassifier, поэтому мы взяли ее в качестве основной модели. При проверке на тестовой выборке модель показала высокое значение **Ф1-меры на уровне 0.66**.\n",
    "\n",
    "### ***Call to action***\n",
    "\n",
    "1. Разобраться в проблеме с пропусками в столбце \"Tenure\". Возможно, ошибка имеет программный характер и на каком-то этапе данные не выгружаются или система не успевает обновлять данные о новых клиентах. \n",
    "2. У банка большой отток клиентов в Германии - каждый третий клиент уходит из банка, что в два раза больше чем в Испании и Франции. Это может происходить по разным причинам, например, высокая конкуренция, невыгодные банковские условия или низкий уровень обслуживания. Стоит обратить на это внимание.\n",
    "\n",
    "### ***Результат***\n",
    "\n",
    "Была обучена и готова к использованию в бизнес-целях модель предсказаний оттока клиентов в банке, которая делает успешные предсказания в 66% случаев."
   ]
  }
 ],
 "metadata": {
  "ExecuteTimeLog": [
   {
    "duration": 1492,
    "start_time": "2022-11-25T03:53:45.617Z"
   },
   {
    "duration": 98,
    "start_time": "2022-11-25T03:53:47.111Z"
   },
   {
    "duration": 12,
    "start_time": "2022-11-25T03:53:47.210Z"
   },
   {
    "duration": 36,
    "start_time": "2022-11-25T03:53:47.224Z"
   },
   {
    "duration": 19,
    "start_time": "2022-11-25T03:53:47.261Z"
   },
   {
    "duration": 4,
    "start_time": "2022-11-25T03:53:47.281Z"
   },
   {
    "duration": 8,
    "start_time": "2022-11-25T03:53:47.286Z"
   },
   {
    "duration": 36,
    "start_time": "2022-11-25T03:53:47.295Z"
   },
   {
    "duration": 137,
    "start_time": "2022-11-25T03:53:47.332Z"
   },
   {
    "duration": 175,
    "start_time": "2022-11-25T03:53:47.471Z"
   },
   {
    "duration": 3,
    "start_time": "2022-11-25T03:53:47.647Z"
   },
   {
    "duration": 20,
    "start_time": "2022-11-25T03:53:47.651Z"
   },
   {
    "duration": 421,
    "start_time": "2022-11-25T03:53:47.673Z"
   },
   {
    "duration": 8,
    "start_time": "2022-11-25T03:53:48.096Z"
   },
   {
    "duration": 18,
    "start_time": "2022-11-25T03:53:48.105Z"
   },
   {
    "duration": 7,
    "start_time": "2022-11-25T03:53:48.124Z"
   },
   {
    "duration": 5,
    "start_time": "2022-11-25T03:53:48.133Z"
   },
   {
    "duration": 7,
    "start_time": "2022-11-25T03:53:48.139Z"
   },
   {
    "duration": 8,
    "start_time": "2022-11-25T03:53:51.659Z"
   },
   {
    "duration": 8,
    "start_time": "2022-11-25T03:53:57.166Z"
   },
   {
    "duration": 1687,
    "start_time": "2022-11-26T08:11:27.083Z"
   },
   {
    "duration": 281,
    "start_time": "2022-11-26T08:11:28.772Z"
   },
   {
    "duration": 16,
    "start_time": "2022-11-26T08:11:29.054Z"
   },
   {
    "duration": 47,
    "start_time": "2022-11-26T08:11:29.072Z"
   },
   {
    "duration": 49,
    "start_time": "2022-11-26T08:11:29.121Z"
   },
   {
    "duration": 6,
    "start_time": "2022-11-26T08:11:29.172Z"
   },
   {
    "duration": 14,
    "start_time": "2022-11-26T08:11:29.180Z"
   },
   {
    "duration": 56,
    "start_time": "2022-11-26T08:11:29.196Z"
   },
   {
    "duration": 181,
    "start_time": "2022-11-26T08:11:29.254Z"
   },
   {
    "duration": 257,
    "start_time": "2022-11-26T08:11:29.437Z"
   },
   {
    "duration": 6,
    "start_time": "2022-11-26T08:11:29.696Z"
   },
   {
    "duration": 47,
    "start_time": "2022-11-26T08:11:29.704Z"
   },
   {
    "duration": 541,
    "start_time": "2022-11-26T08:11:29.754Z"
   },
   {
    "duration": 12,
    "start_time": "2022-11-26T08:11:30.300Z"
   },
   {
    "duration": 23,
    "start_time": "2022-11-26T08:11:30.314Z"
   },
   {
    "duration": 11,
    "start_time": "2022-11-26T08:11:30.350Z"
   },
   {
    "duration": 11,
    "start_time": "2022-11-26T08:11:30.362Z"
   },
   {
    "duration": 105,
    "start_time": "2022-11-26T08:11:30.375Z"
   },
   {
    "duration": 5,
    "start_time": "2022-11-26T08:11:30.483Z"
   },
   {
    "duration": 29,
    "start_time": "2022-11-26T08:11:30.490Z"
   },
   {
    "duration": 74700,
    "start_time": "2022-11-26T08:11:30.521Z"
   },
   {
    "duration": 30,
    "start_time": "2022-11-26T08:12:45.222Z"
   },
   {
    "duration": 15,
    "start_time": "2022-11-26T08:12:45.254Z"
   },
   {
    "duration": 87,
    "start_time": "2022-11-26T08:12:45.271Z"
   },
   {
    "duration": 7,
    "start_time": "2022-11-26T08:12:45.360Z"
   },
   {
    "duration": 18,
    "start_time": "2022-11-26T08:12:45.368Z"
   },
   {
    "duration": 8,
    "start_time": "2022-11-26T08:12:45.389Z"
   },
   {
    "duration": 24,
    "start_time": "2022-11-26T08:12:45.399Z"
   },
   {
    "duration": 9345,
    "start_time": "2022-11-26T08:12:45.425Z"
   },
   {
    "duration": 85,
    "start_time": "2022-11-26T08:12:54.772Z"
   },
   {
    "duration": 16,
    "start_time": "2022-11-26T08:12:54.859Z"
   },
   {
    "duration": 77,
    "start_time": "2022-11-26T08:12:54.876Z"
   },
   {
    "duration": 78084,
    "start_time": "2022-11-26T08:12:54.955Z"
   },
   {
    "duration": 32,
    "start_time": "2022-11-26T08:14:13.041Z"
   },
   {
    "duration": 36,
    "start_time": "2022-11-26T08:14:13.075Z"
   },
   {
    "duration": 179,
    "start_time": "2022-11-26T08:14:13.113Z"
   },
   {
    "duration": 128,
    "start_time": "2022-11-26T08:14:13.295Z"
   },
   {
    "duration": 94,
    "start_time": "2022-11-26T08:14:35.601Z"
   },
   {
    "duration": 30,
    "start_time": "2022-11-26T08:14:41.542Z"
   }
  ],
  "kernelspec": {
   "display_name": "Python 3 (ipykernel)",
   "language": "python",
   "name": "python3"
  },
  "language_info": {
   "codemirror_mode": {
    "name": "ipython",
    "version": 3
   },
   "file_extension": ".py",
   "mimetype": "text/x-python",
   "name": "python",
   "nbconvert_exporter": "python",
   "pygments_lexer": "ipython3",
   "version": "3.9.12"
  },
  "toc": {
   "base_numbering": 1,
   "nav_menu": {},
   "number_sections": true,
   "sideBar": true,
   "skip_h1_title": true,
   "title_cell": "Содержание",
   "title_sidebar": "Contents",
   "toc_cell": true,
   "toc_position": {
    "height": "calc(100% - 180px)",
    "left": "10px",
    "top": "150px",
    "width": "165px"
   },
   "toc_section_display": true,
   "toc_window_display": true
  },
  "varInspector": {
   "cols": {
    "lenName": 16,
    "lenType": 16,
    "lenVar": 40
   },
   "kernels_config": {
    "python": {
     "delete_cmd_postfix": "",
     "delete_cmd_prefix": "del ",
     "library": "var_list.py",
     "varRefreshCmd": "print(var_dic_list())"
    },
    "r": {
     "delete_cmd_postfix": ") ",
     "delete_cmd_prefix": "rm(",
     "library": "var_list.r",
     "varRefreshCmd": "cat(var_dic_list()) "
    }
   },
   "types_to_exclude": [
    "module",
    "function",
    "builtin_function_or_method",
    "instance",
    "_Feature"
   ],
   "window_display": false
  }
 },
 "nbformat": 4,
 "nbformat_minor": 2
}
